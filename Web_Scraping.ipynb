{
 "cells": [
  {
   "cell_type": "code",
   "execution_count": 1,
   "id": "3270d735",
   "metadata": {},
   "outputs": [],
   "source": [
    "# Web Scraping has many names, such as Web Harvesting, Screen Scraping, and others. It is a method of extracting large \n",
    "#quantities of data from websites and storing it at a particular location. \n",
    "#Here we are going to scrape data from the website: www.quotestoscrape.com\n",
    "#We are using python libraries like BeautifulSoup, requests, pandas.\n",
    "#BeautifulSoup is used here to easily extract some of the sections of the body content. \n",
    "#Here we are extracting quotes, author name and tags."
   ]
  },
  {
   "cell_type": "code",
   "execution_count": 2,
   "id": "0679003c",
   "metadata": {},
   "outputs": [],
   "source": [
    "# Importing libraries\n",
    "\n",
    "import requests\n",
    "from bs4 import BeautifulSoup\n",
    "import pandas as pd"
   ]
  },
  {
   "cell_type": "code",
   "execution_count": 3,
   "id": "f5aca772",
   "metadata": {},
   "outputs": [],
   "source": [
    "Content = []\n",
    "\n",
    "for i in range(1,5):\n",
    "    url = f\"http://quotes.toscrape.com/page/{i}/\"\n",
    "    response = requests.get(url)\n",
    "    response = response.content\n",
    "    soup = BeautifulSoup(response,'html.parser')\n",
    "    div = soup.find('div')\n",
    "    contents = div.find_all(class_ = 'quote')\n",
    "    for content in contents:\n",
    "        quotes = content.find(class_ = \"text\").text\n",
    "        author = content.find(class_ = \"author\").text\n",
    "        tags = content.find(class_ = \"tags\").text\n",
    "        tags = tags.replace('\\n', ' ')\n",
    "        Content.append([quotes,author,tags])"
   ]
  },
  {
   "cell_type": "code",
   "execution_count": 4,
   "id": "e68ecdcc",
   "metadata": {},
   "outputs": [],
   "source": [
    "# Converting the data into pandas DataFrame\n",
    "df = pd.DataFrame(Content, columns= ['quotes', 'author', 'tags'])"
   ]
  },
  {
   "cell_type": "code",
   "execution_count": 5,
   "id": "253771cc",
   "metadata": {},
   "outputs": [
    {
     "data": {
      "text/html": [
       "<div>\n",
       "<style scoped>\n",
       "    .dataframe tbody tr th:only-of-type {\n",
       "        vertical-align: middle;\n",
       "    }\n",
       "\n",
       "    .dataframe tbody tr th {\n",
       "        vertical-align: top;\n",
       "    }\n",
       "\n",
       "    .dataframe thead th {\n",
       "        text-align: right;\n",
       "    }\n",
       "</style>\n",
       "<table border=\"1\" class=\"dataframe\">\n",
       "  <thead>\n",
       "    <tr style=\"text-align: right;\">\n",
       "      <th></th>\n",
       "      <th>quotes</th>\n",
       "      <th>author</th>\n",
       "      <th>tags</th>\n",
       "    </tr>\n",
       "  </thead>\n",
       "  <tbody>\n",
       "    <tr>\n",
       "      <th>0</th>\n",
       "      <td>“The world as we have created it is a process ...</td>\n",
       "      <td>Albert Einstein</td>\n",
       "      <td>Tags:              change deep-th...</td>\n",
       "    </tr>\n",
       "    <tr>\n",
       "      <th>1</th>\n",
       "      <td>“It is our choices, Harry, that show what we t...</td>\n",
       "      <td>J.K. Rowling</td>\n",
       "      <td>Tags:              abilities choi...</td>\n",
       "    </tr>\n",
       "    <tr>\n",
       "      <th>2</th>\n",
       "      <td>“There are only two ways to live your life. On...</td>\n",
       "      <td>Albert Einstein</td>\n",
       "      <td>Tags:              inspirational ...</td>\n",
       "    </tr>\n",
       "    <tr>\n",
       "      <th>3</th>\n",
       "      <td>“The person, be it gentleman or lady, who has ...</td>\n",
       "      <td>Jane Austen</td>\n",
       "      <td>Tags:              aliteracy book...</td>\n",
       "    </tr>\n",
       "    <tr>\n",
       "      <th>4</th>\n",
       "      <td>“Imperfection is beauty, madness is genius and...</td>\n",
       "      <td>Marilyn Monroe</td>\n",
       "      <td>Tags:              be-yourself in...</td>\n",
       "    </tr>\n",
       "  </tbody>\n",
       "</table>\n",
       "</div>"
      ],
      "text/plain": [
       "                                              quotes           author   \n",
       "0  “The world as we have created it is a process ...  Albert Einstein  \\\n",
       "1  “It is our choices, Harry, that show what we t...     J.K. Rowling   \n",
       "2  “There are only two ways to live your life. On...  Albert Einstein   \n",
       "3  “The person, be it gentleman or lady, who has ...      Jane Austen   \n",
       "4  “Imperfection is beauty, madness is genius and...   Marilyn Monroe   \n",
       "\n",
       "                                                tags  \n",
       "0               Tags:              change deep-th...  \n",
       "1               Tags:              abilities choi...  \n",
       "2               Tags:              inspirational ...  \n",
       "3               Tags:              aliteracy book...  \n",
       "4               Tags:              be-yourself in...  "
      ]
     },
     "execution_count": 5,
     "metadata": {},
     "output_type": "execute_result"
    }
   ],
   "source": [
    "df.head(5)"
   ]
  },
  {
   "cell_type": "code",
   "execution_count": 6,
   "id": "3a18d6a0",
   "metadata": {},
   "outputs": [],
   "source": [
    "df.to_csv('Quotes_Scrapped.csv')"
   ]
  },
  {
   "cell_type": "code",
   "execution_count": 7,
   "id": "2d2990a0",
   "metadata": {},
   "outputs": [],
   "source": [
    "# Quotes scraping done."
   ]
  }
 ],
 "metadata": {
  "kernelspec": {
   "display_name": "Python 3 (ipykernel)",
   "language": "python",
   "name": "python3"
  },
  "language_info": {
   "codemirror_mode": {
    "name": "ipython",
    "version": 3
   },
   "file_extension": ".py",
   "mimetype": "text/x-python",
   "name": "python",
   "nbconvert_exporter": "python",
   "pygments_lexer": "ipython3",
   "version": "3.10.5"
  }
 },
 "nbformat": 4,
 "nbformat_minor": 5
}
